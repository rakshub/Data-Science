{
  "nbformat": 4,
  "nbformat_minor": 0,
  "metadata": {
    "colab": {
      "provenance": []
    },
    "kernelspec": {
      "name": "python3",
      "display_name": "Python 3"
    },
    "language_info": {
      "name": "python"
    }
  },
  "cells": [
    {
      "cell_type": "markdown",
      "source": [
        "# Import Important Lib"
      ],
      "metadata": {
        "id": "sDfSXIdJZQab"
      }
    },
    {
      "cell_type": "code",
      "execution_count": null,
      "metadata": {
        "id": "jSUgfw1aV_1Q"
      },
      "outputs": [],
      "source": [
        "import numpy as np\n",
        "import pandas as pd\n",
        "%matplotlib inline\n",
        "import matplotlib as mlp\n",
        "import matplotlib.pyplot as plt\n",
        "import tensorflow as tf\n",
        "from tensorflow import keras\n",
        "from tensorflow.keras import layers\n"
      ]
    },
    {
      "cell_type": "markdown",
      "source": [
        "\n",
        "# Import Dataset\n",
        "\n"
      ],
      "metadata": {
        "id": "-haNK0bHZZkA"
      }
    },
    {
      "cell_type": "code",
      "source": [
        "fashion_data=keras.datasets.fashion_mnist\n",
        "(xtrain,ytrain),(xtest,ytest)=fashion_data.load_data()"
      ],
      "metadata": {
        "id": "zGFVfzhZZZLz"
      },
      "execution_count": null,
      "outputs": []
    },
    {
      "cell_type": "code",
      "source": [
        "plt.imshow(xtrain[:5])"
      ],
      "metadata": {
        "id": "lL1rcqDGcXqC"
      },
      "execution_count": null,
      "outputs": []
    },
    {
      "cell_type": "code",
      "source": [
        "plt.imshow(xtrain[0])"
      ],
      "metadata": {
        "id": "smJ2-pHBaEFR"
      },
      "execution_count": null,
      "outputs": []
    },
    {
      "cell_type": "code",
      "source": [
        "ytrain[0]"
      ],
      "metadata": {
        "id": "iX5zYD2tb14x"
      },
      "execution_count": null,
      "outputs": []
    },
    {
      "cell_type": "code",
      "source": [
        "xtrain[:5]"
      ],
      "metadata": {
        "id": "iWQkWtuQhqHS"
      },
      "execution_count": null,
      "outputs": []
    },
    {
      "cell_type": "code",
      "source": [
        "np.unique(ytrain)"
      ],
      "metadata": {
        "id": "zQXRe9tfeE7w"
      },
      "execution_count": null,
      "outputs": []
    },
    {
      "cell_type": "code",
      "source": [
        "plt.figure(figsize=(5,5))\n",
        "for i in range(10):\n",
        "  plt.subplot(3,4,i+1)\n",
        "  plt.imshow(xtrain[i])\n",
        "  plt.title(f\"Lable:{ytrain[i]}\")\n",
        "plt.tight_layout()\n",
        "plt.show()"
      ],
      "metadata": {
        "id": "SZTb2FeydJXL"
      },
      "execution_count": null,
      "outputs": []
    },
    {
      "cell_type": "code",
      "source": [
        "class_names=['T-shirt/top','Trouser','Pullover','Dress','Coat','Sandal','Shirt','Sneaker','Bag','Ankle boot']"
      ],
      "metadata": {
        "id": "0DN9HzFFegaM"
      },
      "execution_count": null,
      "outputs": []
    },
    {
      "cell_type": "code",
      "source": [
        "class_names[ytrain[0]]"
      ],
      "metadata": {
        "id": "4n710IjEe4Nc"
      },
      "execution_count": null,
      "outputs": []
    },
    {
      "cell_type": "markdown",
      "source": [
        "# Data Reshape"
      ],
      "metadata": {
        "id": "A-cPQ4cHh__f"
      }
    },
    {
      "cell_type": "code",
      "source": [
        "xtrain=xtrain.reshape((60000,28,28,1))\n",
        "xtest=xtest.reshape((10000,28,28,1))\n"
      ],
      "metadata": {
        "id": "FLp0fd75iGCW"
      },
      "execution_count": null,
      "outputs": []
    },
    {
      "cell_type": "markdown",
      "source": [
        "# Data Normalization"
      ],
      "metadata": {
        "id": "yRabbvUJiW1Q"
      }
    },
    {
      "cell_type": "code",
      "source": [
        "xtrain=xtrain/255\n",
        "xtest=xtest/255"
      ],
      "metadata": {
        "id": "UIt7wePoiWax"
      },
      "execution_count": null,
      "outputs": []
    },
    {
      "cell_type": "markdown",
      "source": [
        "# Splitng data into train,test,validation"
      ],
      "metadata": {
        "id": "6mFVdwh2ihgi"
      }
    },
    {
      "cell_type": "code",
      "source": [
        "xvalid,xtrain=xtrain[:5000],xtrain[5000:]\n",
        "#first 5000 for validation and remaining 55000 for train\n",
        "yvalid,ytrain=ytrain[:5000],ytrain[5000:]\n",
        "xtest=xtest"
      ],
      "metadata": {
        "id": "bzIXLMQ8ihI6"
      },
      "execution_count": null,
      "outputs": []
    },
    {
      "cell_type": "code",
      "source": [
        "model=keras.models.Sequential()\n",
        "model.add(keras.layers.Conv2D(32,(3,3),strides=1,activation='relu',input_shape=(28,28,1)))"
      ],
      "metadata": {
        "id": "kegRfRcujJsP"
      },
      "execution_count": null,
      "outputs": []
    },
    {
      "cell_type": "code",
      "source": [
        "model.add(keras.layers.MaxPooling2D((2,2)))\n",
        "model.add(keras.layers.Flatten())\n",
        "model.add(keras.layers.Dense(300,activation='relu'))\n",
        "model.add(keras.layers.Dense(100,activation='relu'))\n",
        "model.add(keras.layers.Dense(10,activation='softmax'))"
      ],
      "metadata": {
        "id": "s3cKmQ59lOzM"
      },
      "execution_count": null,
      "outputs": []
    },
    {
      "cell_type": "code",
      "source": [
        "model.summary()"
      ],
      "metadata": {
        "id": "V3AuE_PJlgZv"
      },
      "execution_count": null,
      "outputs": []
    },
    {
      "cell_type": "code",
      "source": [
        "model.compile(loss='sparse_categorical_crossentropy',\n",
        "              optimizer='sgd',\n",
        "              metrics=['accuracy'])"
      ],
      "metadata": {
        "id": "LXPwbrPemF6m"
      },
      "execution_count": null,
      "outputs": []
    },
    {
      "cell_type": "code",
      "source": [
        "model_fit=model.fit(xtrain,ytrain,epochs=10,\n",
        "                    batch_size=64,validation_data=(xvalid,yvalid))"
      ],
      "metadata": {
        "id": "g9wpgQfYmZNZ"
      },
      "execution_count": null,
      "outputs": []
    },
    {
      "cell_type": "code",
      "source": [
        "pd.DataFrame(model_fit.history).plot(figsize=(8,5))\n",
        "plt.grid(True)\n",
        "plt.gca().set_ylim(0,1)\n",
        "plt.show()"
      ],
      "metadata": {
        "id": "Fa-8rlFfnr_a"
      },
      "execution_count": null,
      "outputs": []
    },
    {
      "cell_type": "code",
      "source": [
        "evaluate=model.evaluate(xtest,ytest)"
      ],
      "metadata": {
        "id": "Sl5-5-B8n-Bw"
      },
      "execution_count": null,
      "outputs": []
    },
    {
      "cell_type": "code",
      "source": [
        "evaluate"
      ],
      "metadata": {
        "id": "LYuKx5EpoDPY"
      },
      "execution_count": null,
      "outputs": []
    },
    {
      "cell_type": "code",
      "source": [
        "y_pred=model.predict_classes(xtest)"
      ],
      "metadata": {
        "id": "ZQG-BD5Xof8i"
      },
      "execution_count": null,
      "outputs": []
    },
    {
      "cell_type": "code",
      "source": [
        "keras.backend.clear_session"
      ],
      "metadata": {
        "id": "3yQbYsbyolyB"
      },
      "execution_count": null,
      "outputs": []
    },
    {
      "cell_type": "code",
      "source": [
        "del model"
      ],
      "metadata": {
        "id": "THNJ9i1po0Ts"
      },
      "execution_count": null,
      "outputs": []
    }
  ]
}