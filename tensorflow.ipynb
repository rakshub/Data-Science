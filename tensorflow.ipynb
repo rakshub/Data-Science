{
  "nbformat": 4,
  "nbformat_minor": 0,
  "metadata": {
    "colab": {
      "provenance": []
    },
    "kernelspec": {
      "name": "python3",
      "display_name": "Python 3"
    },
    "language_info": {
      "name": "python"
    }
  },
  "cells": [
    {
      "cell_type": "markdown",
      "source": [
        "Write a Python program that creates a TensorFlow constant with the values [100, 200, 300]. Print its shape and data type."
      ],
      "metadata": {
        "id": "Fv9Cx1ao6YpV"
      }
    },
    {
      "cell_type": "code",
      "execution_count": 2,
      "metadata": {
        "id": "0MuyXuet6D_3"
      },
      "outputs": [],
      "source": [
        "import tensorflow as tf\n",
        "import numpy as np"
      ]
    },
    {
      "cell_type": "code",
      "source": [
        "print(tf.constant([100,200,300]))"
      ],
      "metadata": {
        "colab": {
          "base_uri": "https://localhost:8080/"
        },
        "id": "t8Q_xh5K6eeI",
        "outputId": "cb411931-00a5-486b-bbb6-3669e5877fcb"
      },
      "execution_count": 3,
      "outputs": [
        {
          "output_type": "stream",
          "name": "stdout",
          "text": [
            "tf.Tensor([100 200 300], shape=(3,), dtype=int32)\n"
          ]
        }
      ]
    },
    {
      "cell_type": "markdown",
      "source": [
        "Write a Python program that implements element-wise addition on two TensorFlow tensors of shape (2, 3) filled with random values"
      ],
      "metadata": {
        "id": "sWjowC9z6olK"
      }
    },
    {
      "cell_type": "code",
      "source": [
        "t1=tf.constant(np.random.rand(2,3))\n",
        "t2=tf.constant(np.random.rand(2,3))\n",
        "print(t1)\n",
        "print(t2)"
      ],
      "metadata": {
        "colab": {
          "base_uri": "https://localhost:8080/"
        },
        "id": "Fbc8x08Y6wTj",
        "outputId": "53354736-4c8d-4f43-96c5-5a5eca5facf1"
      },
      "execution_count": 4,
      "outputs": [
        {
          "output_type": "stream",
          "name": "stdout",
          "text": [
            "tf.Tensor(\n",
            "[[0.24313478 0.50579626 0.05900445]\n",
            " [0.23249102 0.24944856 0.42336677]], shape=(2, 3), dtype=float64)\n",
            "tf.Tensor(\n",
            "[[0.56323117 0.26857592 0.72735406]\n",
            " [0.0378298  0.93530665 0.34147737]], shape=(2, 3), dtype=float64)\n"
          ]
        }
      ]
    },
    {
      "cell_type": "code",
      "source": [
        "print(tf.add(t1,t2))"
      ],
      "metadata": {
        "colab": {
          "base_uri": "https://localhost:8080/"
        },
        "id": "vhU1jvRI7Jak",
        "outputId": "f12a6312-5711-40ae-db8b-26569e00ac5b"
      },
      "execution_count": 5,
      "outputs": [
        {
          "output_type": "stream",
          "name": "stdout",
          "text": [
            "tf.Tensor(\n",
            "[[0.80636594 0.77437218 0.78635851]\n",
            " [0.27032082 1.1847552  0.76484414]], shape=(2, 3), dtype=float64)\n"
          ]
        }
      ]
    },
    {
      "cell_type": "markdown",
      "source": [
        "Write a Python program to create a TensorFlow tensor of shape (3, 3) filled with zeros and then change its value to nine."
      ],
      "metadata": {
        "id": "OkIcmTYP7cn-"
      }
    },
    {
      "cell_type": "code",
      "source": [
        "t3=tf.zeros(shape=(3,3),dtype=tf.float32)\n",
        "print(t3)\n",
        "t3=tf.constant(9.0,shape=(3,3),dtype=tf.float32)\n",
        "print(t3)"
      ],
      "metadata": {
        "colab": {
          "base_uri": "https://localhost:8080/"
        },
        "id": "b3Tj8p-l8SgN",
        "outputId": "32ee8ab0-f500-40e4-fa3b-13fff4cb73e3"
      },
      "execution_count": 6,
      "outputs": [
        {
          "output_type": "stream",
          "name": "stdout",
          "text": [
            "tf.Tensor(\n",
            "[[0. 0. 0.]\n",
            " [0. 0. 0.]\n",
            " [0. 0. 0.]], shape=(3, 3), dtype=float32)\n",
            "tf.Tensor(\n",
            "[[9. 9. 9.]\n",
            " [9. 9. 9.]\n",
            " [9. 9. 9.]], shape=(3, 3), dtype=float32)\n"
          ]
        }
      ]
    },
    {
      "cell_type": "markdown",
      "source": [
        "Write a Python program that multiplies a TensorFlow tensor by a scalar value and prints the result.\n"
      ],
      "metadata": {
        "id": "4Z5hJd8q7fCu"
      }
    },
    {
      "cell_type": "code",
      "source": [
        "t4=t3*3\n",
        "print(t4)"
      ],
      "metadata": {
        "colab": {
          "base_uri": "https://localhost:8080/"
        },
        "id": "OZlrFHco83Vk",
        "outputId": "94b5eea3-c63b-49fa-8353-03a9c7165a1e"
      },
      "execution_count": 7,
      "outputs": [
        {
          "output_type": "stream",
          "name": "stdout",
          "text": [
            "tf.Tensor(\n",
            "[[27. 27. 27.]\n",
            " [27. 27. 27.]\n",
            " [27. 27. 27.]], shape=(3, 3), dtype=float32)\n"
          ]
        }
      ]
    },
    {
      "cell_type": "markdown",
      "source": [
        "Write a Python program that uses TensorFlow to compute the dot product of two vectors (1-D tensors).\n"
      ],
      "metadata": {
        "id": "ahioG3FW7hSP"
      }
    },
    {
      "cell_type": "code",
      "source": [
        "#tf.multiply\" to perform element-wise multiplication of the two vectors and \"tf.reduce_sum\" to compute the sum of the resulting elements,\n",
        "#which is the dot product.\n",
        "t5=tf.multiply(t1,t2)\n",
        "t5=tf.reduce_sum(t5)\n",
        "print(t5)"
      ],
      "metadata": {
        "colab": {
          "base_uri": "https://localhost:8080/"
        },
        "id": "B21T3EcU9GB_",
        "outputId": "c36eb578-da77-4f08-f39d-0c0ce0f1ddc4"
      },
      "execution_count": 8,
      "outputs": [
        {
          "output_type": "stream",
          "name": "stdout",
          "text": [
            "tf.Tensor(0.7023790557294695, shape=(), dtype=float64)\n"
          ]
        }
      ]
    },
    {
      "cell_type": "markdown",
      "source": [
        "Write a Python program that enables eager execution in TensorFlow 2.x and prints the result of a simple operation without a session.\n",
        "\n"
      ],
      "metadata": {
        "id": "6GZiDPKb7j6R"
      }
    },
    {
      "cell_type": "code",
      "source": [
        "# the result using result.numpy() without creating a session\n",
        "t6=t1+t2\n",
        "print(type(t6))\n",
        "print(t6.numpy())\n",
        "print(type(t6))"
      ],
      "metadata": {
        "colab": {
          "base_uri": "https://localhost:8080/"
        },
        "id": "sCu2fu_q9vEb",
        "outputId": "1db382f2-e3a5-4fdb-a823-dc4e07f54752"
      },
      "execution_count": 9,
      "outputs": [
        {
          "output_type": "stream",
          "name": "stdout",
          "text": [
            "<class 'tensorflow.python.framework.ops.EagerTensor'>\n",
            "[[0.80636594 0.77437218 0.78635851]\n",
            " [0.27032082 1.1847552  0.76484414]]\n",
            "<class 'tensorflow.python.framework.ops.EagerTensor'>\n"
          ]
        }
      ]
    },
    {
      "cell_type": "markdown",
      "source": [
        "Write a Python program that creates a TensorFlow graph and run it inside a session to compute the result of a basic mathematical operation."
      ],
      "metadata": {
        "id": "o-WCFfSS7oVx"
      }
    },
    {
      "cell_type": "code",
      "source": [
        "graph=tf.Graph()\n",
        "with graph.as_default():\n",
        "  a=tf.constant(3.0)\n",
        "  b=tf.constant(2.0)\n",
        "  t7=tf.multiply(a,b)\n",
        "\n",
        "with tf.compat.v1.Session(graph=graph) as session:\n",
        "  #Create a TensorFlow session (tf.compat.v1.Session())\n",
        "  #and pass the graph to it.\n",
        "  t7=session.run(t7)\n",
        "  print(t7)\n",
        "print(type(graph))"
      ],
      "metadata": {
        "colab": {
          "base_uri": "https://localhost:8080/"
        },
        "id": "rqjLXmeJ-TWP",
        "outputId": "75488628-6b0b-4965-e8d4-89e22ebacc26"
      },
      "execution_count": 10,
      "outputs": [
        {
          "output_type": "stream",
          "name": "stdout",
          "text": [
            "6.0\n",
            "<class 'tensorflow.python.framework.ops.Graph'>\n"
          ]
        }
      ]
    },
    {
      "cell_type": "markdown",
      "source": [
        " Write a Python program that defines a TensorFlow variable to store a matrix of random values. Initialize and print the variable"
      ],
      "metadata": {
        "id": "SqJa5nUj7q2G"
      }
    },
    {
      "cell_type": "code",
      "source": [
        "m=(3,3)\n",
        "tm=tf.Variable(tf.random.normal(shape=(3,3)))\n",
        "#tf.Variable() is used to create a TensorFlow variable\n",
        "# that can be updated during training.\n",
        "print(tm.numpy())"
      ],
      "metadata": {
        "colab": {
          "base_uri": "https://localhost:8080/"
        },
        "id": "kMoCPAXVAdie",
        "outputId": "3b019a1e-e715-47ba-c052-a3c5f5e933b9"
      },
      "execution_count": 11,
      "outputs": [
        {
          "output_type": "stream",
          "name": "stdout",
          "text": [
            "[[ 0.04564548 -1.1576623   1.91561   ]\n",
            " [ 2.0310555  -1.3116997  -0.09175387]\n",
            " [ 1.8443837  -0.22742686  0.5105344 ]]\n"
          ]
        }
      ]
    },
    {
      "cell_type": "markdown",
      "source": [
        "Write a Python program that explains the difference between TensorFlow variables and constants"
      ],
      "metadata": {
        "id": "42CNbl1T7u7k"
      }
    },
    {
      "cell_type": "code",
      "source": [
        "tfc=tf.constant([1.0,2.0,3.0])\n",
        "a=[4.0,5.0,6.0]\n",
        "tfv=tf.Variable(a)\n",
        "tfm=tfv.assign([7.0,8.0,9.0])\n",
        "print(tfc.numpy())\n",
        "print(tfv.numpy())\n",
        "print(tfm.numpy())"
      ],
      "metadata": {
        "colab": {
          "base_uri": "https://localhost:8080/"
        },
        "id": "u84nAqJmBgXv",
        "outputId": "6d6792a9-4521-4e5b-e473-f6a53278d1d1"
      },
      "execution_count": 12,
      "outputs": [
        {
          "output_type": "stream",
          "name": "stdout",
          "text": [
            "[1. 2. 3.]\n",
            "[7. 8. 9.]\n",
            "[7. 8. 9.]\n"
          ]
        }
      ]
    },
    {
      "cell_type": "markdown",
      "source": [
        "Write a Python program that creates a TensorFlow constant and a TensorFlow variable. Add, subtract, multiply and divide them and print the result."
      ],
      "metadata": {
        "id": "Tru80h3o7x3_"
      }
    },
    {
      "cell_type": "code",
      "source": [
        "ta=tf.constant(21.0)\n",
        "tb=tf.Variable(3.0)\n",
        "\n",
        "at=ta+tb\n",
        "st=ta-tb\n",
        "dt=ta/tb\n",
        "mt=ta*tb\n",
        "\n",
        "print(at.numpy())\n",
        "print(st.numpy())\n",
        "print(dt.numpy())\n",
        "print(mt.numpy())"
      ],
      "metadata": {
        "colab": {
          "base_uri": "https://localhost:8080/"
        },
        "id": "su8O2nQtC5QU",
        "outputId": "64431166-9ec5-4878-aff0-b46bf8a4bac3"
      },
      "execution_count": 13,
      "outputs": [
        {
          "output_type": "stream",
          "name": "stdout",
          "text": [
            "24.0\n",
            "18.0\n",
            "7.0\n",
            "63.0\n"
          ]
        }
      ]
    },
    {
      "cell_type": "markdown",
      "source": [
        " Write a Python program that initializes a TensorFlow variable with an initial value and then updates its value within a loop. Print the variable's value after each update."
      ],
      "metadata": {
        "id": "dL4SE2k078hw"
      }
    },
    {
      "cell_type": "code",
      "source": [
        "x=tf.Variable(100.0,dtype=tf.float32)\n",
        "up=10\n",
        "for i in range(up):\n",
        "  upd=x*2.0\n",
        "  x.assign(upd)\n",
        "  print(f\"{i+1}:x={x.numpy()}\")"
      ],
      "metadata": {
        "colab": {
          "base_uri": "https://localhost:8080/"
        },
        "id": "_eWwg2lxD3UW",
        "outputId": "ee1caa71-00cf-49b5-a32c-fe2e14010d75"
      },
      "execution_count": 14,
      "outputs": [
        {
          "output_type": "stream",
          "name": "stdout",
          "text": [
            "1:x=200.0\n",
            "2:x=400.0\n",
            "3:x=800.0\n",
            "4:x=1600.0\n",
            "5:x=3200.0\n",
            "6:x=6400.0\n",
            "7:x=12800.0\n",
            "8:x=25600.0\n",
            "9:x=51200.0\n",
            "10:x=102400.0\n"
          ]
        }
      ]
    },
    {
      "cell_type": "markdown",
      "source": [
        "Write a Python code to list some common TensorFlow data types available."
      ],
      "metadata": {
        "id": "yc6zMmxL8AH7"
      }
    },
    {
      "cell_type": "code",
      "source": [
        "d=[tf.float32,tf.float16,tf.float64,tf.int16,tf.int32,tf.int64,tf.bool,tf.complex128,tf.complex64,tf.double,tf.half,tf.bfloat16,tf.int16,\n",
        "   tf.uint32,tf.resource,tf.uint64,tf.qint16,tf.qint32,tf.qint8,tf.variant,tf.string]\n",
        "\n",
        "for t in d:\n",
        "  print(f\"{t}:{tf.as_dtype(t).name}\")\n"
      ],
      "metadata": {
        "colab": {
          "base_uri": "https://localhost:8080/"
        },
        "id": "bQcE_v7jEW2c",
        "outputId": "8c6595e2-2171-4394-e4b1-60ec0ea23e3b"
      },
      "execution_count": 15,
      "outputs": [
        {
          "output_type": "stream",
          "name": "stdout",
          "text": [
            "<dtype: 'float32'>:float32\n",
            "<dtype: 'float16'>:float16\n",
            "<dtype: 'float64'>:float64\n",
            "<dtype: 'int16'>:int16\n",
            "<dtype: 'int32'>:int32\n",
            "<dtype: 'int64'>:int64\n",
            "<dtype: 'bool'>:bool\n",
            "<dtype: 'complex128'>:complex128\n",
            "<dtype: 'complex64'>:complex64\n",
            "<dtype: 'float64'>:float64\n",
            "<dtype: 'float16'>:float16\n",
            "<dtype: 'bfloat16'>:bfloat16\n",
            "<dtype: 'int16'>:int16\n",
            "<dtype: 'uint32'>:uint32\n",
            "<dtype: 'resource'>:resource\n",
            "<dtype: 'uint64'>:uint64\n",
            "<dtype: 'qint16'>:qint16\n",
            "<dtype: 'qint32'>:qint32\n",
            "<dtype: 'qint8'>:qint8\n",
            "<dtype: 'variant'>:variant\n",
            "<dtype: 'string'>:string\n"
          ]
        }
      ]
    },
    {
      "cell_type": "markdown",
      "source": [
        " Write a Python program that converts a TensorFlow tensor from one data type to another (e.g., from int32 to float64)."
      ],
      "metadata": {
        "id": "2d1IuCxN8Ghm"
      }
    },
    {
      "cell_type": "code",
      "source": [
        "tfint32=tf.constant([1,2,3],dtype=tf.int32)\n",
        "print(tfint32.numpy())\n",
        "tffloat32=tf.cast(tfint32,dtype=tf.float64)\n",
        "\n",
        "print(tffloat32.numpy())"
      ],
      "metadata": {
        "colab": {
          "base_uri": "https://localhost:8080/"
        },
        "id": "D4bzBsa48GKQ",
        "outputId": "d6124cf3-4d56-46cf-956d-5fe74bf710ca"
      },
      "execution_count": 16,
      "outputs": [
        {
          "output_type": "stream",
          "name": "stdout",
          "text": [
            "[1 2 3]\n",
            "[1. 2. 3.]\n"
          ]
        }
      ]
    },
    {
      "cell_type": "markdown",
      "source": [
        "Write a Python program that creates a TensorFlow tensor with a string data type and print its value."
      ],
      "metadata": {
        "id": "7XFgzJjC8M9t"
      }
    },
    {
      "cell_type": "code",
      "source": [
        "tfs=tf.constant(\"Tensorflow Practice\",dtype=tf.string)\n",
        "print(tfs.numpy())\n",
        "print(tfs.numpy().decode())"
      ],
      "metadata": {
        "colab": {
          "base_uri": "https://localhost:8080/"
        },
        "id": "YvkBYxIrGYKJ",
        "outputId": "fca87662-ba22-4bd7-a3d3-27fa965456c2"
      },
      "execution_count": 17,
      "outputs": [
        {
          "output_type": "stream",
          "name": "stdout",
          "text": [
            "b'Tensorflow Practice'\n",
            "Tensorflow Practice\n"
          ]
        }
      ]
    },
    {
      "cell_type": "markdown",
      "source": [
        "Write a Python program that creates a TensorFlow placeholder for input data of shape (None, 20) where \"None\" represents a variable batch size.\n"
      ],
      "metadata": {
        "id": "wWzgpkIcG3Pw"
      }
    },
    {
      "cell_type": "code",
      "source": [
        "i_shape=(None,20)\n",
        "i_d=tf.keras.layers.Input(shape=i_shape,dtype=tf.float32)\n",
        "print(i_d)"
      ],
      "metadata": {
        "colab": {
          "base_uri": "https://localhost:8080/"
        },
        "id": "Yy1I646sG5Bd",
        "outputId": "04d53351-5804-43a6-cb29-43f8689739de"
      },
      "execution_count": 18,
      "outputs": [
        {
          "output_type": "stream",
          "name": "stdout",
          "text": [
            "<KerasTensor shape=(None, None, 20), dtype=float32, sparse=False, name=keras_tensor>\n"
          ]
        }
      ]
    },
    {
      "cell_type": "markdown",
      "source": [
        "Write a Python program that defines a TensorFlow constant tensor containing weights for a neural network layer with shape (10, 4).\n",
        "\n"
      ],
      "metadata": {
        "id": "lYo_gKnjIWGe"
      }
    },
    {
      "cell_type": "code",
      "source": [
        "w_shape=(10,4)\n",
        "w=tf.constant(tf.random.normal(w_shape),dtype=tf.float32)\n",
        "print(w)"
      ],
      "metadata": {
        "colab": {
          "base_uri": "https://localhost:8080/"
        },
        "id": "S_2WczHdIlVy",
        "outputId": "f5a38a94-4b83-4fa9-d0c7-d4f411d1f4f2"
      },
      "execution_count": 19,
      "outputs": [
        {
          "output_type": "stream",
          "name": "stdout",
          "text": [
            "tf.Tensor(\n",
            "[[ 0.69296354  1.0366764  -0.79547924  0.36796963]\n",
            " [-0.15263796 -1.4539509  -0.43890208  0.9303918 ]\n",
            " [ 1.4040287  -0.07397743 -1.5916362   1.0314986 ]\n",
            " [ 1.4181675  -1.9864249  -0.876703    1.4908303 ]\n",
            " [ 0.31635898 -1.3762593   0.9624605  -1.1422406 ]\n",
            " [-0.41365963  0.7822138   1.3087076   1.6479981 ]\n",
            " [ 0.49499786  1.0891067   1.2283872  -1.7132275 ]\n",
            " [-1.3703084  -1.7742726   1.456081   -1.4690186 ]\n",
            " [-0.29758137  0.18922698  0.3131357  -0.5604081 ]\n",
            " [-0.6269119   2.4374099   1.3880157   1.1103224 ]], shape=(10, 4), dtype=float32)\n"
          ]
        }
      ]
    },
    {
      "cell_type": "markdown",
      "source": [
        "Write a Python program that creates a TensorFlow operation to perform matrix multiplication between two tensors."
      ],
      "metadata": {
        "id": "CTKs5IhiI160"
      }
    },
    {
      "cell_type": "code",
      "source": [
        "tm1=tf.constant([[1,2],[3,4]],dtype=tf.int32)\n",
        "tm2=tf.constant([[5,6],[7,8]],dtype=tf.int32)\n",
        "\n",
        "t8=tf.matmul(tm1,tm2)\n",
        "print(t8)"
      ],
      "metadata": {
        "colab": {
          "base_uri": "https://localhost:8080/"
        },
        "id": "PwdYboYxI9ZQ",
        "outputId": "7ef8cd71-d71a-495b-cb09-fc7cc6a8fbfa"
      },
      "execution_count": 20,
      "outputs": [
        {
          "output_type": "stream",
          "name": "stdout",
          "text": [
            "tf.Tensor(\n",
            "[[19 22]\n",
            " [43 50]], shape=(2, 2), dtype=int32)\n"
          ]
        }
      ]
    },
    {
      "cell_type": "markdown",
      "source": [
        "Write a Python program that builds a feedforward neural network using TensorFlow with one hidden layer and a sigmoid activation function"
      ],
      "metadata": {
        "id": "YPmyfuPbJoJj"
      }
    },
    {
      "cell_type": "code",
      "source": [
        "from tensorflow import keras\n",
        "input_size=100\n",
        "hidden_units=32\n",
        "output=1\n",
        "\n",
        "model=keras.Sequential([keras.layers.Input(shape=(input_size,)),\n",
        "                        keras.layers.Dense(units=hidden_units,activation='sigmoid'),\n",
        "                       keras.layers.Dense(units=output,activation='sigmoid')])\n",
        "model.compile(optimizer='adam',loss='binary_crossentropy',metrics=['accuracy'])\n",
        "model.summary()"
      ],
      "metadata": {
        "colab": {
          "base_uri": "https://localhost:8080/",
          "height": 204
        },
        "id": "Jd4A-0naJnan",
        "outputId": "b59ca373-74a1-43b9-b275-fd36c5a873ae"
      },
      "execution_count": 21,
      "outputs": [
        {
          "output_type": "display_data",
          "data": {
            "text/plain": [
              "\u001b[1mModel: \"sequential\"\u001b[0m\n"
            ],
            "text/html": [
              "<pre style=\"white-space:pre;overflow-x:auto;line-height:normal;font-family:Menlo,'DejaVu Sans Mono',consolas,'Courier New',monospace\"><span style=\"font-weight: bold\">Model: \"sequential\"</span>\n",
              "</pre>\n"
            ]
          },
          "metadata": {}
        },
        {
          "output_type": "display_data",
          "data": {
            "text/plain": [
              "┏━━━━━━━━━━━━━━━━━━━━━━━━━━━━━━━━━┳━━━━━━━━━━━━━━━━━━━━━━━━┳━━━━━━━━━━━━━━━┓\n",
              "┃\u001b[1m \u001b[0m\u001b[1mLayer (type)                   \u001b[0m\u001b[1m \u001b[0m┃\u001b[1m \u001b[0m\u001b[1mOutput Shape          \u001b[0m\u001b[1m \u001b[0m┃\u001b[1m \u001b[0m\u001b[1m      Param #\u001b[0m\u001b[1m \u001b[0m┃\n",
              "┡━━━━━━━━━━━━━━━━━━━━━━━━━━━━━━━━━╇━━━━━━━━━━━━━━━━━━━━━━━━╇━━━━━━━━━━━━━━━┩\n",
              "│ dense (\u001b[38;5;33mDense\u001b[0m)                   │ (\u001b[38;5;45mNone\u001b[0m, \u001b[38;5;34m32\u001b[0m)             │         \u001b[38;5;34m3,232\u001b[0m │\n",
              "├─────────────────────────────────┼────────────────────────┼───────────────┤\n",
              "│ dense_1 (\u001b[38;5;33mDense\u001b[0m)                 │ (\u001b[38;5;45mNone\u001b[0m, \u001b[38;5;34m1\u001b[0m)              │            \u001b[38;5;34m33\u001b[0m │\n",
              "└─────────────────────────────────┴────────────────────────┴───────────────┘\n"
            ],
            "text/html": [
              "<pre style=\"white-space:pre;overflow-x:auto;line-height:normal;font-family:Menlo,'DejaVu Sans Mono',consolas,'Courier New',monospace\">┏━━━━━━━━━━━━━━━━━━━━━━━━━━━━━━━━━┳━━━━━━━━━━━━━━━━━━━━━━━━┳━━━━━━━━━━━━━━━┓\n",
              "┃<span style=\"font-weight: bold\"> Layer (type)                    </span>┃<span style=\"font-weight: bold\"> Output Shape           </span>┃<span style=\"font-weight: bold\">       Param # </span>┃\n",
              "┡━━━━━━━━━━━━━━━━━━━━━━━━━━━━━━━━━╇━━━━━━━━━━━━━━━━━━━━━━━━╇━━━━━━━━━━━━━━━┩\n",
              "│ dense (<span style=\"color: #0087ff; text-decoration-color: #0087ff\">Dense</span>)                   │ (<span style=\"color: #00d7ff; text-decoration-color: #00d7ff\">None</span>, <span style=\"color: #00af00; text-decoration-color: #00af00\">32</span>)             │         <span style=\"color: #00af00; text-decoration-color: #00af00\">3,232</span> │\n",
              "├─────────────────────────────────┼────────────────────────┼───────────────┤\n",
              "│ dense_1 (<span style=\"color: #0087ff; text-decoration-color: #0087ff\">Dense</span>)                 │ (<span style=\"color: #00d7ff; text-decoration-color: #00d7ff\">None</span>, <span style=\"color: #00af00; text-decoration-color: #00af00\">1</span>)              │            <span style=\"color: #00af00; text-decoration-color: #00af00\">33</span> │\n",
              "└─────────────────────────────────┴────────────────────────┴───────────────┘\n",
              "</pre>\n"
            ]
          },
          "metadata": {}
        },
        {
          "output_type": "display_data",
          "data": {
            "text/plain": [
              "\u001b[1m Total params: \u001b[0m\u001b[38;5;34m3,265\u001b[0m (12.75 KB)\n"
            ],
            "text/html": [
              "<pre style=\"white-space:pre;overflow-x:auto;line-height:normal;font-family:Menlo,'DejaVu Sans Mono',consolas,'Courier New',monospace\"><span style=\"font-weight: bold\"> Total params: </span><span style=\"color: #00af00; text-decoration-color: #00af00\">3,265</span> (12.75 KB)\n",
              "</pre>\n"
            ]
          },
          "metadata": {}
        },
        {
          "output_type": "display_data",
          "data": {
            "text/plain": [
              "\u001b[1m Trainable params: \u001b[0m\u001b[38;5;34m3,265\u001b[0m (12.75 KB)\n"
            ],
            "text/html": [
              "<pre style=\"white-space:pre;overflow-x:auto;line-height:normal;font-family:Menlo,'DejaVu Sans Mono',consolas,'Courier New',monospace\"><span style=\"font-weight: bold\"> Trainable params: </span><span style=\"color: #00af00; text-decoration-color: #00af00\">3,265</span> (12.75 KB)\n",
              "</pre>\n"
            ]
          },
          "metadata": {}
        },
        {
          "output_type": "display_data",
          "data": {
            "text/plain": [
              "\u001b[1m Non-trainable params: \u001b[0m\u001b[38;5;34m0\u001b[0m (0.00 B)\n"
            ],
            "text/html": [
              "<pre style=\"white-space:pre;overflow-x:auto;line-height:normal;font-family:Menlo,'DejaVu Sans Mono',consolas,'Courier New',monospace\"><span style=\"font-weight: bold\"> Non-trainable params: </span><span style=\"color: #00af00; text-decoration-color: #00af00\">0</span> (0.00 B)\n",
              "</pre>\n"
            ]
          },
          "metadata": {}
        }
      ]
    },
    {
      "cell_type": "markdown",
      "source": [
        "Write a Python program that creates a custom loss function using TensorFlow that penalizes errors differently for positive and negative examples."
      ],
      "metadata": {
        "id": "0V853rx3N0y8"
      }
    },
    {
      "cell_type": "code",
      "source": [
        "def custom_loss(y_true,y_pred):\n",
        "  positive_w=3.0\n",
        "  negative_w=1.0\n",
        "  loss=-(positive_w*y_true*tf.math.log(y_pred) + negative_w*(1-y_true)*tf.math.log(1-y_pred))\n",
        "  loss=tf.reduce_mean(loss)\n",
        "  return loss"
      ],
      "metadata": {
        "id": "GfjtZt2hOCDo"
      },
      "execution_count": 22,
      "outputs": []
    },
    {
      "cell_type": "markdown",
      "source": [
        "Write a Python program that implements a gradient descent optimizer using TensorFlow for a simple linear regression model."
      ],
      "metadata": {
        "id": "h85I5eZA9y2p"
      }
    },
    {
      "cell_type": "code",
      "source": [
        "print(np.random.rand(5,2)) #uniform distribution\n",
        "print(np.random.randn(5,2)) #std normal distribution"
      ],
      "metadata": {
        "colab": {
          "base_uri": "https://localhost:8080/"
        },
        "id": "VI6y3An192Os",
        "outputId": "d2d7246e-13c7-432a-f1bd-b858e017db17"
      },
      "execution_count": 26,
      "outputs": [
        {
          "output_type": "stream",
          "name": "stdout",
          "text": [
            "[[0.83339031 0.84170698]\n",
            " [0.33983411 0.92058912]\n",
            " [0.44745356 0.08267983]\n",
            " [0.67557722 0.75643351]\n",
            " [0.97182116 0.27063876]]\n",
            "[[ 0.44750651 -0.20830725]\n",
            " [-0.55252423  0.29325717]\n",
            " [-0.22308103 -1.8317789 ]\n",
            " [-0.20787249 -1.99649876]\n",
            " [ 1.47240303  0.19945685]]\n"
          ]
        }
      ]
    },
    {
      "cell_type": "code",
      "source": [
        "np.random.seed(0)\n",
        "x=np.random.rand(100,1)\n",
        "y=2*x+1+0.1*np.random.randn(100,1)\n",
        "\n",
        "model=tf.keras.Sequential([\n",
        "    tf.keras.layers.Input(shape=(1,)),\n",
        "    tf.keras.layers.Dense(1)\n",
        "])\n",
        "\n",
        "loss_fun=tf.keras.losses.MeanSquaredError()\n",
        "learning_rate=0.01\n",
        "\n",
        "optimizer=tf.keras.optimizers.SGD(learning_rate=learning_rate)\n",
        "num_epochs=100\n",
        "for epoch in range(num_epochs):\n",
        "  with tf.GradientTape() as t:\n",
        "  #tf.GradientTape() context to record operations\n",
        "  #for automatic differentiation\n",
        "    y_pred=model(x)\n",
        "    loss=loss_fun(y,y_pred)\n",
        "\n",
        "  gradients=t.gradient(loss,model.trainable_variables)\n",
        "  optimizer.apply_gradients(zip(gradients,model.trainable_variables))\n",
        "\n",
        "  print(f\"{epoch+1}/{num_epochs},loss:{loss.numpy()}\")\n",
        "\n",
        "final_weights,final_bias=model.layers[0].get_weights()\n",
        "print(final_weights)\n",
        "print(final_bias)"
      ],
      "metadata": {
        "colab": {
          "base_uri": "https://localhost:8080/"
        },
        "id": "s7mxVshH_sWK",
        "outputId": "c5888943-c68e-46a3-9777-0326363d7ad0"
      },
      "execution_count": 30,
      "outputs": [
        {
          "output_type": "stream",
          "name": "stdout",
          "text": [
            "1/100,loss:7.842282295227051\n",
            "2/100,loss:7.479043483734131\n",
            "3/100,loss:7.133538246154785\n",
            "4/100,loss:6.804898262023926\n",
            "5/100,loss:6.4922966957092285\n",
            "6/100,loss:6.194948673248291\n",
            "7/100,loss:5.912108898162842\n",
            "8/100,loss:5.643064975738525\n",
            "9/100,loss:5.387143135070801\n",
            "10/100,loss:5.143700122833252\n",
            "11/100,loss:4.9121246337890625\n",
            "12/100,loss:4.691836357116699\n",
            "13/100,loss:4.482282638549805\n",
            "14/100,loss:4.282937526702881\n",
            "15/100,loss:4.093301296234131\n",
            "16/100,loss:3.9128994941711426\n",
            "17/100,loss:3.741278648376465\n",
            "18/100,loss:3.578010320663452\n",
            "19/100,loss:3.422684669494629\n",
            "20/100,loss:3.2749133110046387\n",
            "21/100,loss:3.134326219558716\n",
            "22/100,loss:3.0005719661712646\n",
            "23/100,loss:2.8733160495758057\n",
            "24/100,loss:2.752239942550659\n",
            "25/100,loss:2.637042284011841\n",
            "26/100,loss:2.5274343490600586\n",
            "27/100,loss:2.423142671585083\n",
            "28/100,loss:2.3239073753356934\n",
            "29/100,loss:2.229480504989624\n",
            "30/100,loss:2.139626979827881\n",
            "31/100,loss:2.0541234016418457\n",
            "32/100,loss:1.9727563858032227\n",
            "33/100,loss:1.8953235149383545\n",
            "34/100,loss:1.8216325044631958\n",
            "35/100,loss:1.751500129699707\n",
            "36/100,loss:1.684752345085144\n",
            "37/100,loss:1.6212233304977417\n",
            "38/100,loss:1.5607556104660034\n",
            "39/100,loss:1.5031999349594116\n",
            "40/100,loss:1.4484132528305054\n",
            "41/100,loss:1.396260380744934\n",
            "42/100,loss:1.3466120958328247\n",
            "43/100,loss:1.2993463277816772\n",
            "44/100,loss:1.254346489906311\n",
            "45/100,loss:1.2115015983581543\n",
            "46/100,loss:1.1707061529159546\n",
            "47/100,loss:1.1318602561950684\n",
            "48/100,loss:1.0948684215545654\n",
            "49/100,loss:1.059639811515808\n",
            "50/100,loss:1.0260882377624512\n",
            "51/100,loss:0.9941319227218628\n",
            "52/100,loss:0.9636927843093872\n",
            "53/100,loss:0.9346965551376343\n",
            "54/100,loss:0.9070728421211243\n",
            "55/100,loss:0.8807544708251953\n",
            "56/100,loss:0.8556777834892273\n",
            "57/100,loss:0.8317819237709045\n",
            "58/100,loss:0.8090092539787292\n",
            "59/100,loss:0.7873049974441528\n",
            "60/100,loss:0.7666167616844177\n",
            "61/100,loss:0.7468950748443604\n",
            "62/100,loss:0.7280927896499634\n",
            "63/100,loss:0.7101647257804871\n",
            "64/100,loss:0.6930684447288513\n",
            "65/100,loss:0.6767633557319641\n",
            "66/100,loss:0.6612107157707214\n",
            "67/100,loss:0.6463737487792969\n",
            "68/100,loss:0.6322177648544312\n",
            "69/100,loss:0.6187092661857605\n",
            "70/100,loss:0.6058169007301331\n",
            "71/100,loss:0.5935104489326477\n",
            "72/100,loss:0.5817614197731018\n",
            "73/100,loss:0.5705426931381226\n",
            "74/100,loss:0.5598282814025879\n",
            "75/100,loss:0.5495938062667847\n",
            "76/100,loss:0.5398156642913818\n",
            "77/100,loss:0.5304717421531677\n",
            "78/100,loss:0.5215408802032471\n",
            "79/100,loss:0.5130029916763306\n",
            "80/100,loss:0.5048388838768005\n",
            "81/100,loss:0.49703049659729004\n",
            "82/100,loss:0.4895603060722351\n",
            "83/100,loss:0.4824121594429016\n",
            "84/100,loss:0.4755702316761017\n",
            "85/100,loss:0.4690195918083191\n",
            "86/100,loss:0.4627462327480316\n",
            "87/100,loss:0.45673668384552\n",
            "88/100,loss:0.45097798109054565\n",
            "89/100,loss:0.44545817375183105\n",
            "90/100,loss:0.44016551971435547\n",
            "91/100,loss:0.43508902192115784\n",
            "92/100,loss:0.43021827936172485\n",
            "93/100,loss:0.4255433678627014\n",
            "94/100,loss:0.4210546016693115\n",
            "95/100,loss:0.41674330830574036\n",
            "96/100,loss:0.4126006066799164\n",
            "97/100,loss:0.4086185097694397\n",
            "98/100,loss:0.4047892689704895\n",
            "99/100,loss:0.40110546350479126\n",
            "100/100,loss:0.39756008982658386\n",
            "[[-0.09106839]]\n",
            "[1.8563099]\n"
          ]
        }
      ]
    }
  ]
}